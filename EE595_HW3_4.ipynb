{
 "cells": [
  {
   "cell_type": "code",
   "execution_count": 1,
   "metadata": {},
   "outputs": [
    {
     "ename": "ModuleNotFoundError",
     "evalue": "No module named 'tensorflow'",
     "output_type": "error",
     "traceback": [
      "\u001b[1;31m---------------------------------------------------------------------------\u001b[0m",
      "\u001b[1;31mModuleNotFoundError\u001b[0m                       Traceback (most recent call last)",
      "\u001b[1;32m<ipython-input-1-32bfca7037e4>\u001b[0m in \u001b[0;36m<module>\u001b[1;34m()\u001b[0m\n\u001b[0;32m      9\u001b[0m \u001b[1;32mimport\u001b[0m \u001b[0mmatplotlib\u001b[0m\u001b[1;33m.\u001b[0m\u001b[0mpyplot\u001b[0m \u001b[1;32mas\u001b[0m \u001b[0mplt\u001b[0m\u001b[1;33m\u001b[0m\u001b[0m\n\u001b[0;32m     10\u001b[0m \u001b[1;32mimport\u001b[0m \u001b[0mnumpy\u001b[0m \u001b[1;32mas\u001b[0m \u001b[0mnp\u001b[0m\u001b[1;33m\u001b[0m\u001b[0m\n\u001b[1;32m---> 11\u001b[1;33m \u001b[1;32mimport\u001b[0m \u001b[0mtensorflow\u001b[0m \u001b[1;32mas\u001b[0m \u001b[0mtf\u001b[0m\u001b[1;33m\u001b[0m\u001b[0m\n\u001b[0m\u001b[0;32m     12\u001b[0m \u001b[1;32mimport\u001b[0m \u001b[0msklearn\u001b[0m\u001b[1;33m.\u001b[0m\u001b[0mdatasets\u001b[0m\u001b[1;33m\u001b[0m\u001b[0m\n\u001b[0;32m     13\u001b[0m \u001b[1;33m\u001b[0m\u001b[0m\n",
      "\u001b[1;31mModuleNotFoundError\u001b[0m: No module named 'tensorflow'"
     ]
    }
   ],
   "source": [
    "import os, sys\n",
    "sys.path.append(os.getcwd())\n",
    "\n",
    "import random\n",
    "import time\n",
    "\n",
    "import matplotlib\n",
    "matplotlib.use('Agg')\n",
    "import matplotlib.pyplot as plt\n",
    "import numpy as np\n",
    "import tensorflow as tf\n",
    "import sklearn.datasets\n",
    "\n",
    "import tflib as lib\n",
    "import tflib.ops.linear\n",
    "import tflib.plot\n",
    "\n",
    "MODE = 'wgan-gp' # wgan or wgan-gp\n",
    "DATASET = '8gaussians' # 8gaussians, 25gaussians, swissroll\n",
    "DIM = 512 # Model dimensionality\n",
    "FIXED_GENERATOR = False # whether to hold the generator fixed at real data plus\n",
    "                        # Gaussian noise, as in the plots in the paper\n",
    "LAMBDA = .1 # Smaller lambda makes things faster for toy tasks, but isn't\n",
    "            # necessary if you increase CRITIC_ITERS enough\n",
    "CRITIC_ITERS = 5 # How many critic iterations per generator iteration\n",
    "BATCH_SIZE = 256 # Batch size\n",
    "ITERS = 100000 # how many generator iterations to train for\n",
    "\n",
    "lib.print_model_settings(locals().copy())\n",
    "\n",
    "def ReLULayer(name, n_in, n_out, inputs):\n",
    "    output = lib.ops.linear.Linear(\n",
    "        name+'.Linear',\n",
    "        n_in,\n",
    "        n_out,\n",
    "        inputs,\n",
    "        initialization='he'\n",
    "    )\n",
    "    output = tf.nn.relu(output)\n",
    "    return output\n",
    "\n",
    "def Generator(n_samples, real_data):\n",
    "    if FIXED_GENERATOR:\n",
    "        return real_data + (1.*tf.random_normal(tf.shape(real_data)))\n",
    "    else:\n",
    "        noise = tf.random_normal([n_samples, 2])\n",
    "        output = ReLULayer('Generator.1', 2, DIM, noise)\n",
    "        output = ReLULayer('Generator.2', DIM, DIM, output)\n",
    "        output = ReLULayer('Generator.3', DIM, DIM, output)\n",
    "        output = lib.ops.linear.Linear('Generator.4', DIM, 2, output)\n",
    "        return output\n",
    "\n",
    "def Discriminator(inputs):\n",
    "    output = ReLULayer('Discriminator.1', 2, DIM, inputs)\n",
    "    output = ReLULayer('Discriminator.2', DIM, DIM, output)\n",
    "    output = ReLULayer('Discriminator.3', DIM, DIM, output)\n",
    "    output = lib.ops.linear.Linear('Discriminator.4', DIM, 1, output)\n",
    "    return tf.reshape(output, [-1])\n",
    "\n",
    "real_data = tf.placeholder(tf.float32, shape=[None, 2])\n",
    "fake_data = Generator(BATCH_SIZE, real_data)\n",
    "\n",
    "disc_real = Discriminator(real_data)\n",
    "disc_fake = Discriminator(fake_data)"
   ]
  },
  {
   "cell_type": "code",
   "execution_count": null,
   "metadata": {},
   "outputs": [],
   "source": []
  }
 ],
 "metadata": {
  "kernelspec": {
   "display_name": "Python 3",
   "language": "python",
   "name": "python3"
  },
  "language_info": {
   "codemirror_mode": {
    "name": "ipython",
    "version": 3
   },
   "file_extension": ".py",
   "mimetype": "text/x-python",
   "name": "python",
   "nbconvert_exporter": "python",
   "pygments_lexer": "ipython3",
   "version": "3.6.4"
  }
 },
 "nbformat": 4,
 "nbformat_minor": 2
}
